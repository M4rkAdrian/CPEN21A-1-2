{
  "nbformat": 4,
  "nbformat_minor": 0,
  "metadata": {
    "colab": {
      "name": "Untitled6.ipynb",
      "provenance": [],
      "authorship_tag": "ABX9TyMSsdgsnRFnRRmbRgc/wsAk",
      "include_colab_link": true
    },
    "kernelspec": {
      "name": "python3",
      "display_name": "Python 3"
    },
    "language_info": {
      "name": "python"
    }
  },
  "cells": [
    {
      "cell_type": "markdown",
      "metadata": {
        "id": "view-in-github",
        "colab_type": "text"
      },
      "source": [
        "<a href=\"https://colab.research.google.com/github/M4rkAdrian/CPEN21A-1-2/blob/main/Midterm_Exam.ipynb\" target=\"_parent\"><img src=\"https://colab.research.google.com/assets/colab-badge.svg\" alt=\"Open In Colab\"/></a>"
      ]
    },
    {
      "cell_type": "markdown",
      "metadata": {
        "id": "gAdGm9aZBrW5"
      },
      "source": [
        "### Midterm Exam"
      ]
    },
    {
      "cell_type": "markdown",
      "metadata": {
        "id": "QeKrlQTBvyoB"
      },
      "source": [
        "##### Problem Statement 1"
      ]
    },
    {
      "cell_type": "code",
      "metadata": {
        "colab": {
          "base_uri": "https://localhost:8080/"
        },
        "id": "a28ZVV_fvuA_",
        "outputId": "0d41c57e-e3c7-4284-9807-4d7380f3d63d"
      },
      "source": [
        "name = ('Mark Adrian Balbaira Beranque')\n",
        "studentnumber = ('202101472')\n",
        "age = 17\n",
        "birthday = ('December 28, 2003')\n",
        "address = ('Block 9 Lot 1 Unit E, Brgy. Poblacion 1 GMA, Cavite')\n",
        "course = ('Bachelor of Science in Computer Engineering')\n",
        "lastSemGWA = ('N/A')\n",
        "\n",
        "print(\"Name: {}\\nStudent Number: {}\\nAge: {}\\nBirthday: {}\\nAddress: {}\\nCourse: {}\\nLast Sem GWA: {}\"  .format(name, studentnumber, age, birthday, address, course, lastSemGWA))\n"
      ],
      "execution_count": 70,
      "outputs": [
        {
          "output_type": "stream",
          "name": "stdout",
          "text": [
            "Name: Mark Adrian Balbaira Beranque\n",
            "Student Number: 202101472\n",
            "Age: 17\n",
            "Birthday: December 28, 2003\n",
            "Address: Block 9 Lot 1 Unit E, Brgy. Poblacion 1 GMA, Cavite\n",
            "Course: Bachelor of Science in Computer Engineering\n",
            "Last Sem GWA: N/A\n"
          ]
        }
      ]
    },
    {
      "cell_type": "markdown",
      "metadata": {
        "id": "jXsicKHX7qMR"
      },
      "source": [
        "##### Problem Statement 2"
      ]
    },
    {
      "cell_type": "code",
      "metadata": {
        "colab": {
          "base_uri": "https://localhost:8080/"
        },
        "id": "Fw5ZOMtv7t62",
        "outputId": "8abc27ce-1fd3-48ba-97f6-908edac8b3dc"
      },
      "source": [
        "n = 4\n",
        "answ=(\"Y\")\n",
        "\n",
        "print(2<n and n<6)\n",
        "print(2<n or n==6)\n",
        "print(not(2<n or n==6))\n",
        "print(not(n<6))\n",
        "print(answ==\"Y\" or answ==\"y\")\n",
        "print(answ==\"Y\" and answ==\"y\")\n",
        "print(not(answ==\"y\"))\n",
        "print((2<n) and (n==5+1) or (answ==\"No\"))\n",
        "print((n==2) and (n==7) or (answ==\"Y\")) \n",
        "print(n==2) and ((n==7) or (answ==\"Y\")) "
      ],
      "execution_count": 209,
      "outputs": [
        {
          "output_type": "stream",
          "name": "stdout",
          "text": [
            "True\n",
            "True\n",
            "False\n",
            "False\n",
            "True\n",
            "False\n",
            "True\n",
            "False\n",
            "True\n",
            "False\n"
          ]
        }
      ]
    },
    {
      "cell_type": "markdown",
      "metadata": {
        "id": "mWvlC20PNEBN"
      },
      "source": [
        "##### Problem Statement 3"
      ]
    },
    {
      "cell_type": "code",
      "metadata": {
        "colab": {
          "base_uri": "https://localhost:8080/"
        },
        "id": "K_XRopmgNG3h",
        "outputId": "73b902ce-deaa-4355-8175-29be80a25ee4"
      },
      "source": [
        "x = 2\n",
        "y = -3\n",
        "w = 7\n",
        "z = -10\n",
        "\n",
        "print(x/y)\n",
        "print(w/y/x)\n",
        "print(z/y%x)\n",
        "print(x%-y*w)\n",
        "print(x%y)\n",
        "print(z%w-y/x*5+5)\n",
        "print(9-x%(2+y))\n",
        "print(z//w)\n",
        "print((2+y)**2)\n",
        "print(w/x*2)"
      ],
      "execution_count": 183,
      "outputs": [
        {
          "output_type": "stream",
          "name": "stdout",
          "text": [
            "-0.6666666666666666\n",
            "-1.1666666666666667\n",
            "1.3333333333333335\n",
            "14\n",
            "-1\n",
            "16.5\n",
            "9\n",
            "-2\n",
            "1\n",
            "7.0\n"
          ]
        }
      ]
    }
  ]
}