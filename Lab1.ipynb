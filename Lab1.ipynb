{
  "nbformat": 4,
  "nbformat_minor": 0,
  "metadata": {
    "colab": {
      "name": "Untitled2.ipynb",
      "provenance": [],
      "authorship_tag": "ABX9TyMN+yaRA7iIp8BV3eQ1ik3o",
      "include_colab_link": true
    },
    "kernelspec": {
      "name": "python3",
      "display_name": "Python 3"
    },
    "language_info": {
      "name": "python"
    }
  },
  "cells": [
    {
      "cell_type": "markdown",
      "metadata": {
        "id": "view-in-github",
        "colab_type": "text"
      },
      "source": [
        "<a href=\"https://colab.research.google.com/github/M4rkAdrian/CPEN21A-1-2/blob/main/Lab1.ipynb\" target=\"_parent\"><img src=\"https://colab.research.google.com/assets/colab-badge.svg\" alt=\"Open In Colab\"/></a>"
      ]
    },
    {
      "cell_type": "markdown",
      "metadata": {
        "id": "xFxqmxqS6Ote"
      },
      "source": [
        "## Laboratory 1\n"
      ]
    },
    {
      "cell_type": "code",
      "metadata": {
        "colab": {
          "base_uri": "https://localhost:8080/"
        },
        "id": "l9sRTU8r6QwY",
        "outputId": "b54d09ed-acfc-4d19-f1c0-45da67bc6146"
      },
      "source": [
        "x = \"Welcome to \"\n",
        "y = \"Python Programming\"\n",
        "print(x + y)"
      ],
      "execution_count": null,
      "outputs": [
        {
          "output_type": "stream",
          "name": "stdout",
          "text": [
            "Welcome to Python Programming\n"
          ]
        }
      ]
    },
    {
      "cell_type": "code",
      "metadata": {
        "colab": {
          "base_uri": "https://localhost:8080/"
        },
        "id": "HdcY3aoy7W6J",
        "outputId": "61e2b437-6668-43a3-c14d-2f88773c4b26"
      },
      "source": [
        "x,y,z = \"name:\",\"address:\",\"age:\"\n",
        "print(x + \"Mark Adrian\")\n",
        "print(y + \"Block 9 Lot 1 Poblacion 1\")\n",
        "print(z + \"17\")\n"
      ],
      "execution_count": null,
      "outputs": [
        {
          "output_type": "stream",
          "name": "stdout",
          "text": [
            "name:Mark Adrian\n",
            "address:Block 9 Lot 1 Poblacion 1\n",
            "age:17\n"
          ]
        }
      ]
    }
  ]
}