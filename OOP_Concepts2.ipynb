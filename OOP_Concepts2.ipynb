{
  "nbformat": 4,
  "nbformat_minor": 0,
  "metadata": {
    "colab": {
      "name": "OOP Concepts2.ipynb",
      "provenance": [],
      "collapsed_sections": [],
      "authorship_tag": "ABX9TyNPwAaiW6KpNGVA6x8FOJJF",
      "include_colab_link": true
    },
    "kernelspec": {
      "name": "python3",
      "display_name": "Python 3"
    },
    "language_info": {
      "name": "python"
    }
  },
  "cells": [
    {
      "cell_type": "markdown",
      "metadata": {
        "id": "view-in-github",
        "colab_type": "text"
      },
      "source": [
        "<a href=\"https://colab.research.google.com/github/M4rkAdrian/CPEN21A-1-2/blob/main/OOP_Concepts2.ipynb\" target=\"_parent\"><img src=\"https://colab.research.google.com/assets/colab-badge.svg\" alt=\"Open In Colab\"/></a>"
      ]
    },
    {
      "cell_type": "markdown",
      "source": [
        "Classes with Multiple Objects"
      ],
      "metadata": {
        "id": "UXZA9t6uVOEe"
      }
    },
    {
      "cell_type": "code",
      "source": [
        "class Birds:\n",
        "  def __init__(self,bird_name):\n",
        "    self.bird_name=bird_name\n",
        "\n",
        "  def flying_birds(self):\n",
        "    print(f\"{self.bird_name} flies above the sky\")\n",
        "  \n",
        "  def non_flying_birds(self):\n",
        "    print(f\"{self.bird_name} is the national bird of the Philippines\")\n",
        "\n",
        "vulture=Birds(\"Griffon Vulture\")\n",
        "crane=Birds(\"Common Crane\")\n",
        "emu=Birds(\"Emu\")\n",
        "\n",
        "vulture.flying_birds()\n",
        "crane.flying_birds()\n",
        "emu.non_flying_birds()"
      ],
      "metadata": {
        "colab": {
          "base_uri": "https://localhost:8080/"
        },
        "id": "1GqvmpjhVTD9",
        "outputId": "ab793e29-eb3a-49e3-cde0-3459cbf5a273"
      },
      "execution_count": null,
      "outputs": [
        {
          "output_type": "stream",
          "name": "stdout",
          "text": [
            "Griffon Vulture flies above the sky\n",
            "Common Crane flies above the sky\n",
            "Emu is the national bird of the Philippines\n"
          ]
        }
      ]
    },
    {
      "cell_type": "markdown",
      "source": [
        "Encapsulation using Mangling with Double Underscores"
      ],
      "metadata": {
        "id": "O7sBJ2WGXP2V"
      }
    },
    {
      "cell_type": "code",
      "source": [
        "class foo:\n",
        "  def __init__(self,a,b):\n",
        "    self.__a=a\n",
        "    self.__b=b\n",
        "\n",
        "  def add(self):\n",
        "    return self.__a+self.__b\n",
        "\n",
        "number = foo(3,4)\n",
        "number.add()\n",
        "\n",
        "number.a=9\n",
        "number.add()"
      ],
      "metadata": {
        "colab": {
          "base_uri": "https://localhost:8080/"
        },
        "id": "eK1YbawuXS61",
        "outputId": "add8c72a-8e47-4f82-df6f-60aba8fe5320"
      },
      "execution_count": null,
      "outputs": [
        {
          "output_type": "execute_result",
          "data": {
            "text/plain": [
              "7"
            ]
          },
          "metadata": {},
          "execution_count": 10
        }
      ]
    },
    {
      "cell_type": "markdown",
      "source": [
        "Encapsulation with Private Attributes"
      ],
      "metadata": {
        "id": "gZljJhGlZZnN"
      }
    },
    {
      "cell_type": "code",
      "source": [
        "class Counter:\n",
        "  def __init__(self):\n",
        "    self.__current = 0\n",
        "\n",
        "  def increment(self):\n",
        "    self.__current += 1\n",
        "  def value(self):\n",
        "    return self.__current     #With mangling using Double Underscores\n",
        "  def reset(self):\n",
        "    self.__current = 0\n",
        "\n",
        "num=Counter()\n",
        "\n",
        "num.increment()\n",
        "num.increment()\n",
        "num.increment()\n",
        "\n",
        "num.counter=1\n",
        "\n",
        "num.value()\n"
      ],
      "metadata": {
        "colab": {
          "base_uri": "https://localhost:8080/"
        },
        "id": "MgsPdT39ZfCN",
        "outputId": "c0907cab-9d64-4a86-8dc0-68c80bf1e534"
      },
      "execution_count": null,
      "outputs": [
        {
          "output_type": "execute_result",
          "data": {
            "text/plain": [
              "3"
            ]
          },
          "metadata": {},
          "execution_count": 29
        }
      ]
    },
    {
      "cell_type": "markdown",
      "source": [
        "Inheritance"
      ],
      "metadata": {
        "id": "DmZnohClcmp0"
      }
    },
    {
      "cell_type": "code",
      "source": [
        "class Person:\n",
        "  def __init__(self, firstname,surname):\n",
        "    self.firstname=firstname\n",
        "    self.surname=surname\n",
        "\n",
        "  def printname(self):\n",
        "    print(self.firstname,self.surname)\n",
        "  \n",
        "person = Person(\"Ana\",\"Santos\")\n",
        "person.printname()\n",
        "\n",
        "class Teacher(Person):\n",
        "  pass\n",
        "\n",
        "person2 = Teacher(\"Maria\",\"Sayo\")\n",
        "person2.printname()\n",
        "\n",
        "class Student(Person):\n",
        "  pass\n",
        "\n",
        "person3 = Student(\"Mark Adrian\",\"Beranque\")\n",
        "person3.printname()"
      ],
      "metadata": {
        "colab": {
          "base_uri": "https://localhost:8080/"
        },
        "id": "-M938DuzdIpe",
        "outputId": "4a40688c-e828-475d-fc03-f1e47d78af0a"
      },
      "execution_count": null,
      "outputs": [
        {
          "output_type": "stream",
          "name": "stdout",
          "text": [
            "Ana Santos\n",
            "Maria Sayo\n",
            "Mark Adrian Beranque\n"
          ]
        }
      ]
    },
    {
      "cell_type": "markdown",
      "source": [
        "Polymorphism"
      ],
      "metadata": {
        "id": "7AP09TQGfJq0"
      }
    },
    {
      "cell_type": "code",
      "source": [
        "class RegularPolygon:\n",
        "    def __init__(self,side):\n",
        "        self.side = side\n",
        "class Square(RegularPolygon):\n",
        "    def area(self):\n",
        "        return self.side * self.side\n",
        "class EquilateralTriangle(RegularPolygon):\n",
        "    def area(self):\n",
        "        return self.side * self.side * 0.433\n",
        "\n",
        "object=Square(4)\n",
        "print(object.area())\n",
        "\n",
        "object2=EquilateralTriangle(3)\n",
        "print(object2.area())\n"
      ],
      "metadata": {
        "colab": {
          "base_uri": "https://localhost:8080/"
        },
        "id": "iSi1h3tpfNwy",
        "outputId": "90c7f718-d30f-4b6a-d88f-871c8d82326d"
      },
      "execution_count": null,
      "outputs": [
        {
          "output_type": "stream",
          "name": "stdout",
          "text": [
            "16\n",
            "3.897\n"
          ]
        }
      ]
    },
    {
      "cell_type": "markdown",
      "source": [
        "Application 1\n",
        "1. Create a Python program that displays the name of the three students (Student 1, Student 2, and Student 3) and their term grades\n",
        "2. Create a class name Person and attributes - std 1,std2,std3,pre,mid,final\n",
        "3. Compute the average of each term grade using Grade using Grade() method\n",
        "4. Information about students grades must be hidden from others"
      ],
      "metadata": {
        "id": "LJScT1WqiPv8"
      }
    },
    {
      "cell_type": "code",
      "source": [
        "class Person:\n",
        "  def __init__(self,term_grades):\n",
        "    self.term_grades=term_grades\n",
        "\n",
        "  def Term(self):\n",
        "    print(f\"{self.term_grades}       Pre   Mid   Final\")\n",
        "  def std1(self):\n",
        "    print(f\"{self.term_grades}     1.25   1.50   1.50\")\n",
        "  def std2(self):\n",
        "    print(f\"{self.term_grades}     1.50   1.00   1.25\")\n",
        "  def std3(self):\n",
        "    print(f\"{self.term_grades}     1.75   1.25   1.25\")\n",
        "\n",
        "terms=Person(\"Student no.\")\n",
        "student1=Person(\"Student 1   \")\n",
        "student2=Person(\"Student 2   \")\n",
        "student3=Person(\"Student 3   \")\n",
        "\n",
        "terms.Term()\n",
        "student1.std1()\n",
        "student2.std2()\n",
        "student3.std3()\n",
        "\n"
      ],
      "metadata": {
        "id": "jRSM90G2qJYZ",
        "colab": {
          "base_uri": "https://localhost:8080/"
        },
        "outputId": "8c1d8008-6238-499d-e6d5-38629272bfed"
      },
      "execution_count": 93,
      "outputs": [
        {
          "output_type": "stream",
          "name": "stdout",
          "text": [
            "Student no.       Pre   Mid   Final\n",
            "Student 1        1.25   1.50   1.50\n",
            "Student 2        1.50   1.00   1.25\n",
            "Student 3        1.75   1.25   1.25\n"
          ]
        }
      ]
    },
    {
      "cell_type": "code",
      "source": [
        "class average:\n",
        "  def __init__(self,pre,mid,final):\n",
        "    self.__pre = pre\n",
        "    self.__mid = mid\n",
        "    self.__final = final\n",
        "\n",
        "  def Grade(self):\n",
        "    return (self.__pre+self.__mid+self.__final)/3\n",
        "\n",
        "std1 = average(1.25,1.50,1.50)\n",
        "std2 = average(1.50,1.00,1.25)\n",
        "std3 = average(1.75,1.25,1.25)\n",
        "\n",
        "print(\"The computed average of Student 1 is\", std1.Grade())\n",
        "print(\"The computed average of Student 2 is\", std2.Grade())\n",
        "print(\"The computed average of Student 3 is\", std3.Grade())"
      ],
      "metadata": {
        "colab": {
          "base_uri": "https://localhost:8080/"
        },
        "id": "uJ_XsTnclIFS",
        "outputId": "ebd2e918-1d8e-4b42-adfd-465075119bbe"
      },
      "execution_count": 125,
      "outputs": [
        {
          "output_type": "stream",
          "name": "stdout",
          "text": [
            "The computed average of Student 1 is 1.4166666666666667\n",
            "The computed average of Student 2 is 1.25\n",
            "The computed average of Student 3 is 1.4166666666666667\n"
          ]
        }
      ]
    },
    {
      "cell_type": "code",
      "source": [
        ""
      ],
      "metadata": {
        "id": "bX60jN5Rr3nO"
      },
      "execution_count": null,
      "outputs": []
    }
  ]
}