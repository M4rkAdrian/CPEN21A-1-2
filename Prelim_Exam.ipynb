{
  "nbformat": 4,
  "nbformat_minor": 0,
  "metadata": {
    "colab": {
      "name": "Prelim Exam.ipynb",
      "provenance": [],
      "collapsed_sections": [],
      "authorship_tag": "ABX9TyOBF0rEbEiDmHiNAIVhjZMS",
      "include_colab_link": true
    },
    "kernelspec": {
      "name": "python3",
      "display_name": "Python 3"
    },
    "language_info": {
      "name": "python"
    }
  },
  "cells": [
    {
      "cell_type": "markdown",
      "metadata": {
        "id": "view-in-github",
        "colab_type": "text"
      },
      "source": [
        "<a href=\"https://colab.research.google.com/github/M4rkAdrian/CPEN21A-1-2/blob/main/Prelim_Exam.ipynb\" target=\"_parent\"><img src=\"https://colab.research.google.com/assets/colab-badge.svg\" alt=\"Open In Colab\"/></a>"
      ]
    },
    {
      "cell_type": "markdown",
      "source": [
        "Prelim Exam"
      ],
      "metadata": {
        "id": "5MWvrVmUoHtw"
      }
    },
    {
      "cell_type": "code",
      "source": [
        "class Student:\n",
        "  def __init__(self,Name, Student_No, Age, School,Course):\n",
        "    self.Name = Name\n",
        "    self.Student_No = Student_No\n",
        "    self.Age = Age\n",
        "    self. School = School\n",
        "    self. Course = Course\n",
        "\n",
        "  def Info(self):\n",
        "    print(self.Name)\n",
        "    print(self.Student_No)\n",
        "    print(self.Age)\n",
        "    print(self.School)\n",
        "    print(self.Course)\n",
        "\n",
        "Myself = Student(\"Mark Adrian Balbaira Beranque\",202101472,18,\"Cavite State University Delas Alas Campus\",\"Bachelor of Science in Computer Engineering\")\n",
        "Myself.Info()\n",
        "  "
      ],
      "metadata": {
        "colab": {
          "base_uri": "https://localhost:8080/"
        },
        "id": "JSh4dSM1oLUv",
        "outputId": "81de4c23-1d4f-4c98-9f8c-fc5bc4cabbb6"
      },
      "execution_count": 20,
      "outputs": [
        {
          "output_type": "stream",
          "name": "stdout",
          "text": [
            "Mark Adrian Balbaira Beranque\n",
            "202101472\n",
            "18\n",
            "Cavite State University Delas Alas Campus\n",
            "Bachelor of Science in Computer Engineering\n"
          ]
        }
      ]
    }
  ]
}