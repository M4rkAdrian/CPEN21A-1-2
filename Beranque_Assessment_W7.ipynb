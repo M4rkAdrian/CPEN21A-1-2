{
  "nbformat": 4,
  "nbformat_minor": 0,
  "metadata": {
    "colab": {
      "name": "Untitled1.ipynb",
      "provenance": [],
      "authorship_tag": "ABX9TyNEExK8wRwvYoCQeOkZQGD2",
      "include_colab_link": true
    },
    "kernelspec": {
      "name": "python3",
      "display_name": "Python 3"
    },
    "language_info": {
      "name": "python"
    }
  },
  "cells": [
    {
      "cell_type": "markdown",
      "metadata": {
        "id": "view-in-github",
        "colab_type": "text"
      },
      "source": [
        "<a href=\"https://colab.research.google.com/github/M4rkAdrian/CPEN21A-1-2/blob/main/Beranque_Assessment_W7.ipynb\" target=\"_parent\"><img src=\"https://colab.research.google.com/assets/colab-badge.svg\" alt=\"Open In Colab\"/></a>"
      ]
    },
    {
      "cell_type": "markdown",
      "metadata": {
        "id": "XkfNbvybU0zD"
      },
      "source": [
        "### Python Indention"
      ]
    },
    {
      "cell_type": "code",
      "metadata": {
        "colab": {
          "base_uri": "https://localhost:8080/"
        },
        "id": "-gooteABU68h",
        "outputId": "06a23791-34d2-427d-c168-8f6d14cb34d1"
      },
      "source": [
        "if 5>2:\n",
        "  print(\"Five is greater than two!\")"
      ],
      "execution_count": 1,
      "outputs": [
        {
          "output_type": "stream",
          "name": "stdout",
          "text": [
            "Five is greater than two!\n"
          ]
        }
      ]
    },
    {
      "cell_type": "markdown",
      "metadata": {
        "id": "ucvxxRqNVWkd"
      },
      "source": [
        "### Python Comments\n"
      ]
    },
    {
      "cell_type": "code",
      "metadata": {
        "colab": {
          "base_uri": "https://localhost:8080/"
        },
        "id": "8Ne9pw_mVaEJ",
        "outputId": "fdbf97fe-2c5e-4939-d4d3-20d9dc04d05b"
      },
      "source": [
        "#This is a comment\n",
        "print(\"Hello,World\")"
      ],
      "execution_count": 21,
      "outputs": [
        {
          "output_type": "stream",
          "name": "stdout",
          "text": [
            "Hello,World\n"
          ]
        }
      ]
    },
    {
      "cell_type": "markdown",
      "metadata": {
        "id": "jFR5olJTV4ll"
      },
      "source": [
        "### Python Variable"
      ]
    },
    {
      "cell_type": "code",
      "metadata": {
        "colab": {
          "base_uri": "https://localhost:8080/"
        },
        "id": "cMmOaDzpV9g1",
        "outputId": "fbadde7a-a58f-4cf0-f5df-eeafe7e8ec65"
      },
      "source": [
        "x = 1\n",
        "a,b=0,-1\n",
        "a,b,c=0,-1,-2\n",
        "print(x)\n",
        "print(a,b,c)\n",
        "b= \"Sally\"   #This is a type of string\n"
      ],
      "execution_count": 20,
      "outputs": [
        {
          "output_type": "stream",
          "name": "stdout",
          "text": [
            "1\n",
            "0 -1 -2\n"
          ]
        }
      ]
    },
    {
      "cell_type": "markdown",
      "metadata": {
        "id": "_XIalk5FWl9v"
      },
      "source": [
        "### Casting"
      ]
    },
    {
      "cell_type": "code",
      "metadata": {
        "colab": {
          "base_uri": "https://localhost:8080/"
        },
        "id": "diN-03gTXsop",
        "outputId": "9546c87c-aab1-44f6-ad21-d4f4b7a75246"
      },
      "source": [
        "x = 10\n",
        "y = \"John\"\n",
        "z = -5\n",
        "print(type(x))\n",
        "print(type(y))\n",
        "print(type(z))"
      ],
      "execution_count": 19,
      "outputs": [
        {
          "output_type": "stream",
          "name": "stdout",
          "text": [
            "<class 'int'>\n",
            "<class 'str'>\n",
            "<class 'int'>\n"
          ]
        }
      ]
    },
    {
      "cell_type": "markdown",
      "metadata": {
        "id": "vbEpGiCaYjwl"
      },
      "source": [
        "### Type Function"
      ]
    },
    {
      "cell_type": "code",
      "metadata": {
        "colab": {
          "base_uri": "https://localhost:8080/"
        },
        "id": "77PK3U2oYota",
        "outputId": "785fb9ae-17dc-49f5-e1db-774274eb650b"
      },
      "source": [
        "x = 5\n",
        "y = \"John\"\n",
        "z = \"Marie\"\n",
        "print(type(x))\n",
        "print(type(y))\n",
        "print(type(z))"
      ],
      "execution_count": 18,
      "outputs": [
        {
          "output_type": "stream",
          "name": "stdout",
          "text": [
            "<class 'int'>\n",
            "<class 'str'>\n",
            "<class 'str'>\n"
          ]
        }
      ]
    },
    {
      "cell_type": "markdown",
      "metadata": {
        "id": "x4ZDwNWTZBtN"
      },
      "source": [
        "### Double quotes or Single quote"
      ]
    },
    {
      "cell_type": "code",
      "metadata": {
        "colab": {
          "base_uri": "https://localhost:8080/"
        },
        "id": "fb_Mhau8ZKWt",
        "outputId": "41f26ff4-4384-4f4a-c237-2ef072233c74"
      },
      "source": [
        "y = \"John\"\n",
        "y = 'John'\n",
        "print(y)\n",
        "x = \"Marie\"\n",
        "x = 'Marie'\n",
        "print(x)"
      ],
      "execution_count": 17,
      "outputs": [
        {
          "output_type": "stream",
          "name": "stdout",
          "text": [
            "John\n",
            "Marie\n"
          ]
        }
      ]
    },
    {
      "cell_type": "markdown",
      "metadata": {
        "id": "WtHq7qJ5ZcvY"
      },
      "source": [
        "### Case Sensitive"
      ]
    },
    {
      "cell_type": "code",
      "metadata": {
        "colab": {
          "base_uri": "https://localhost:8080/"
        },
        "id": "gMN7l_hjZ90-",
        "outputId": "04b7b590-35a9-4fb4-a36f-b5271450a910"
      },
      "source": [
        "a = 4\n",
        "A = \"Sally\"\n",
        "print(A)\n",
        "\n",
        "b = 7\n",
        "B = \"Senpai\"\n",
        "print(B)"
      ],
      "execution_count": 24,
      "outputs": [
        {
          "output_type": "stream",
          "name": "stdout",
          "text": [
            "Sally\n",
            "Senpai\n"
          ]
        }
      ]
    },
    {
      "cell_type": "markdown",
      "metadata": {
        "id": "md2xQNMYagGC"
      },
      "source": [
        "### Multiple Variables"
      ]
    },
    {
      "cell_type": "code",
      "metadata": {
        "colab": {
          "base_uri": "https://localhost:8080/"
        },
        "id": "MPiEArXgakZd",
        "outputId": "f7f7e87f-b2f4-4854-f343-500c9c9d0861"
      },
      "source": [
        "x,y,z=\"one\",\"two\",\"three\"\n",
        "print(x)\n",
        "print(y)\n",
        "print(z)"
      ],
      "execution_count": 28,
      "outputs": [
        {
          "output_type": "stream",
          "name": "stdout",
          "text": [
            "one\n",
            "two\n",
            "three\n"
          ]
        }
      ]
    },
    {
      "cell_type": "markdown",
      "metadata": {
        "id": "1doXAhTObCUz"
      },
      "source": [
        "### Output Variables"
      ]
    },
    {
      "cell_type": "code",
      "metadata": {
        "colab": {
          "base_uri": "https://localhost:8080/"
        },
        "id": "38Hjg4-HbGw5",
        "outputId": "47c89cee-6fc7-4cae-ad3d-392537382a64"
      },
      "source": [
        "x = \"enjoying\"\n",
        "print(\"Python programming is\" \" \"+ x)"
      ],
      "execution_count": 36,
      "outputs": [
        {
          "output_type": "stream",
          "name": "stdout",
          "text": [
            "Python programming is enjoying\n"
          ]
        }
      ]
    },
    {
      "cell_type": "code",
      "metadata": {
        "colab": {
          "base_uri": "https://localhost:8080/"
        },
        "id": "Gkd_dJ7Sbxsl",
        "outputId": "c3cb5449-3079-49c5-ca7f-1ade95872928"
      },
      "source": [
        "x = \"Python is\"\" \"\n",
        "y = \"enjoying\"\n",
        "z = x+y\n",
        "print(z)"
      ],
      "execution_count": 38,
      "outputs": [
        {
          "output_type": "stream",
          "name": "stdout",
          "text": [
            "Python is enjoying\n"
          ]
        }
      ]
    },
    {
      "cell_type": "markdown",
      "metadata": {
        "id": "UvT15KZHcCfo"
      },
      "source": [
        "### Arithmetic Operations"
      ]
    },
    {
      "cell_type": "code",
      "metadata": {
        "colab": {
          "base_uri": "https://localhost:8080/"
        },
        "id": "d6sjRK57cFzl",
        "outputId": "435a1d83-68b8-44fb-e063-ace76c56ecb4"
      },
      "source": [
        "x = 7\n",
        "y = 5\n",
        "print(x+y)"
      ],
      "execution_count": 39,
      "outputs": [
        {
          "output_type": "stream",
          "name": "stdout",
          "text": [
            "12\n"
          ]
        }
      ]
    },
    {
      "cell_type": "code",
      "metadata": {
        "colab": {
          "base_uri": "https://localhost:8080/"
        },
        "id": "dPFvVQFVcUA0",
        "outputId": "49f303d8-f5c9-42d6-c3e2-1916fd138c57"
      },
      "source": [
        "x = 5\n",
        "y = 8\n",
        "sum=x+y\n",
        "print(sum)"
      ],
      "execution_count": 42,
      "outputs": [
        {
          "output_type": "stream",
          "name": "stdout",
          "text": [
            "13\n"
          ]
        }
      ]
    },
    {
      "cell_type": "markdown",
      "metadata": {
        "id": "T9hUAd5PciO2"
      },
      "source": [
        "### Assignment Operators"
      ]
    },
    {
      "cell_type": "code",
      "metadata": {
        "colab": {
          "base_uri": "https://localhost:8080/"
        },
        "id": "lNmuoacvclz9",
        "outputId": "fd661674-fa89-44db-b28f-51457f232f45"
      },
      "source": [
        "x,y,z=0,-2,6\n",
        "x += 5\n",
        "print(x)"
      ],
      "execution_count": 47,
      "outputs": [
        {
          "output_type": "stream",
          "name": "stdout",
          "text": [
            "5\n"
          ]
        }
      ]
    },
    {
      "cell_type": "code",
      "metadata": {
        "colab": {
          "base_uri": "https://localhost:8080/"
        },
        "id": "yhgFu-i8dSd0",
        "outputId": "d351bff2-50c1-4ff2-fa7d-6aeff409b577"
      },
      "source": [
        "a,b,c=-2,6,8\n",
        "b *= 7\n",
        "print(b)"
      ],
      "execution_count": 49,
      "outputs": [
        {
          "output_type": "stream",
          "name": "stdout",
          "text": [
            "42\n"
          ]
        }
      ]
    },
    {
      "cell_type": "markdown",
      "metadata": {
        "id": "qDWxGBmqdngQ"
      },
      "source": [
        "### Comparison Operators"
      ]
    },
    {
      "cell_type": "code",
      "metadata": {
        "colab": {
          "base_uri": "https://localhost:8080/"
        },
        "id": "v1hVtJo4drhu",
        "outputId": "1ede9c16-48f5-4bf0-d9dc-8ac896fbf0f4"
      },
      "source": [
        "a,b,c=4,-2, 5\n",
        "b != c"
      ],
      "execution_count": 52,
      "outputs": [
        {
          "output_type": "execute_result",
          "data": {
            "text/plain": [
              "True"
            ]
          },
          "metadata": {},
          "execution_count": 52
        }
      ]
    },
    {
      "cell_type": "markdown",
      "metadata": {
        "id": "dwKVo7rpeBtg"
      },
      "source": [
        "### Logical Operators"
      ]
    },
    {
      "cell_type": "code",
      "metadata": {
        "colab": {
          "base_uri": "https://localhost:8080/"
        },
        "id": "v0RqpVpDeEq4",
        "outputId": "a68c7017-a6ed-4109-cce8-1b70573cc16e"
      },
      "source": [
        "a,b,c=2,6,9\n",
        "a<b and b>c"
      ],
      "execution_count": 53,
      "outputs": [
        {
          "output_type": "execute_result",
          "data": {
            "text/plain": [
              "False"
            ]
          },
          "metadata": {},
          "execution_count": 53
        }
      ]
    },
    {
      "cell_type": "code",
      "metadata": {
        "colab": {
          "base_uri": "https://localhost:8080/"
        },
        "id": "djE5sUWFeQZ6",
        "outputId": "779fde8f-fb38-4f66-bf0d-5dbf2fc05706"
      },
      "source": [
        "a<b or b<c"
      ],
      "execution_count": 55,
      "outputs": [
        {
          "output_type": "execute_result",
          "data": {
            "text/plain": [
              "True"
            ]
          },
          "metadata": {},
          "execution_count": 55
        }
      ]
    },
    {
      "cell_type": "code",
      "metadata": {
        "colab": {
          "base_uri": "https://localhost:8080/"
        },
        "id": "24EJGvhSegXK",
        "outputId": "03846117-c227-4cf2-8bf9-b569da03c57e"
      },
      "source": [
        "not(a<b and b>c)"
      ],
      "execution_count": 56,
      "outputs": [
        {
          "output_type": "execute_result",
          "data": {
            "text/plain": [
              "True"
            ]
          },
          "metadata": {},
          "execution_count": 56
        }
      ]
    },
    {
      "cell_type": "markdown",
      "metadata": {
        "id": "wRe-hKHSel_w"
      },
      "source": [
        "### Identity Operators"
      ]
    },
    {
      "cell_type": "code",
      "metadata": {
        "colab": {
          "base_uri": "https://localhost:8080/"
        },
        "id": "ouXkulzZeqip",
        "outputId": "27e8f25d-cd86-43fa-dacf-6cc873aa98cf"
      },
      "source": [
        "x,y,z=-2,-4,6 \n",
        "print(x is x)\n",
        "print(x is not z)"
      ],
      "execution_count": 61,
      "outputs": [
        {
          "output_type": "stream",
          "name": "stdout",
          "text": [
            "True\n",
            "True\n"
          ]
        }
      ]
    }
  ]
}