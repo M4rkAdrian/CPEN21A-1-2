{
  "nbformat": 4,
  "nbformat_minor": 0,
  "metadata": {
    "colab": {
      "name": "Final Exam.ipynb",
      "provenance": [],
      "collapsed_sections": [],
      "authorship_tag": "ABX9TyPypqLQMWTv8uy+PytAtKXb",
      "include_colab_link": true
    },
    "kernelspec": {
      "name": "python3",
      "display_name": "Python 3"
    },
    "language_info": {
      "name": "python"
    }
  },
  "cells": [
    {
      "cell_type": "markdown",
      "metadata": {
        "id": "view-in-github",
        "colab_type": "text"
      },
      "source": [
        "<a href=\"https://colab.research.google.com/github/M4rkAdrian/CPEN21A-1-2/blob/main/Final_Exam.ipynb\" target=\"_parent\"><img src=\"https://colab.research.google.com/assets/colab-badge.svg\" alt=\"Open In Colab\"/></a>"
      ]
    },
    {
      "cell_type": "markdown",
      "source": [
        "## Final Exam"
      ],
      "metadata": {
        "id": "rVcGVmCWyWne"
      }
    },
    {
      "cell_type": "markdown",
      "source": [
        "#### Problem Statement 1"
      ],
      "metadata": {
        "id": "w1Z2LBca1ZwG"
      }
    },
    {
      "cell_type": "code",
      "source": [
        "num = [4,3,2,1,0,-1,-2,-3,-4,-5]\n",
        "digit = 0\n",
        "\n",
        "for x in num:\n",
        "  digit =+ x\n",
        "print('The sum of the 10 numbers less than 5 is', sum)"
      ],
      "metadata": {
        "colab": {
          "base_uri": "https://localhost:8080/"
        },
        "id": "NiDhBJGY1cZu",
        "outputId": "570ecab2-9eca-4dcb-fdd3-f76b6ebe839c"
      },
      "execution_count": null,
      "outputs": [
        {
          "output_type": "stream",
          "name": "stdout",
          "text": [
            "Sum of the 10 numbers less than 5 is -5\n"
          ]
        }
      ]
    },
    {
      "cell_type": "markdown",
      "source": [
        "#### Problem Statement 2"
      ],
      "metadata": {
        "id": "mDp_VBH1iCsA"
      }
    },
    {
      "cell_type": "code",
      "source": [
        "num = 0\n",
        "while num < 5:\n",
        "  num = num + 1\n",
        "  x = int(input('Enter your numbers : '))\n",
        "if num == 1:\n",
        "   a = x\n",
        "if num == 5:\n",
        "   z = x\n",
        "\n",
        "print(a+z)"
      ],
      "metadata": {
        "id": "HKN4UM3X2WXp",
        "colab": {
          "base_uri": "https://localhost:8080/"
        },
        "outputId": "4bd49970-216a-4b05-aa66-13dffa6fb403"
      },
      "execution_count": 95,
      "outputs": [
        {
          "output_type": "stream",
          "name": "stdout",
          "text": [
            "Enter your numbers : 1\n",
            "Enter your numbers : 2\n",
            "Enter your numbers : 3\n",
            "Enter your numbers : 4\n",
            "Enter your numbers : 5\n",
            "6\n"
          ]
        }
      ]
    },
    {
      "cell_type": "markdown",
      "source": [
        "####Problem Statement 3"
      ],
      "metadata": {
        "id": "M6isdf3l_BEF"
      }
    },
    {
      "cell_type": "code",
      "source": [
        "grade = float(input(\"Enter your grade:\"))\n",
        "\n",
        "if grade>=90:\n",
        "  print('A')\n",
        "elif grade >= 80 and grade <= 89:\n",
        "  print('B')\n",
        "elif grade >= 70 and grade <= 79:\n",
        "  print('C')\n",
        "elif grade >= 60 and grade <= 69:\n",
        "  print('D')\n",
        "else:\n",
        "  print(\"F\")"
      ],
      "metadata": {
        "colab": {
          "base_uri": "https://localhost:8080/"
        },
        "id": "LR_59pbc_Ej8",
        "outputId": "0817793b-19d6-4d08-d34c-6bec6e227216"
      },
      "execution_count": 165,
      "outputs": [
        {
          "output_type": "stream",
          "name": "stdout",
          "text": [
            "Enter your grade:75.5\n",
            "C\n"
          ]
        }
      ]
    }
  ]
}